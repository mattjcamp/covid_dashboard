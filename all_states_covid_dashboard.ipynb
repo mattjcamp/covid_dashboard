{
 "cells": [
  {
   "cell_type": "markdown",
   "metadata": {},
   "source": [
    "# Local Covid-19 Metrics"
   ]
  },
  {
   "cell_type": "markdown",
   "metadata": {},
   "source": [
    "## Gather Datasets"
   ]
  },
  {
   "cell_type": "code",
   "execution_count": null,
   "metadata": {
    "scrolled": true
   },
   "outputs": [],
   "source": [
    "\n",
    "# init\n",
    "import pandas as pd\n",
    "import requests\n",
    "import matplotlib.pyplot as plt\n",
    "from IPython.display import display, HTML\n",
    "from pandas import DataFrame\n",
    "\n",
    "# set parameters\n",
    "days_back = 365\n",
    "\n",
    "# get content from web APIs\n",
    "us = requests.get('https://api.covidtracking.com/v1/states/daily.json')\n",
    "us = us.text\n",
    "us = pd.read_json(us)\n",
    "\n",
    "# make function for the covid tracking api since they are all the same\n",
    "def clean_covidtracking_api_data(df):\n",
    "    \n",
    "    # get subset\n",
    "    df = df[['date','state','positiveIncrease','totalTestResultsIncrease'\n",
    "           ,'hospitalizedCurrently','death','deathIncrease','positive']]\n",
    "    \n",
    "    # Rename dataset columns\n",
    "    df = df.rename(columns={'positiveIncrease':'positive'\n",
    "                              ,'totalTestResultsIncrease': 'tests'\n",
    "                              ,'hospitalizedCurrently': 'hospitalized'\n",
    "                              ,'death': 'death_total'\n",
    "                              ,'deathIncrease': 'death'\n",
    "                              ,'positive': 'positive_total'})\n",
    "    \n",
    "    # Harmonize date column\n",
    "    df['date'] = df['date'].astype(str)\n",
    "    df['date'] = pd.to_datetime(pd.Series(df['date']), format=\"%Y%m%d\")\n",
    "    \n",
    "    # Derived Columns\n",
    "    # Positivity Rate\n",
    "    positive = df.loc[:,['positive']].values[0:]\n",
    "    tests = df.loc[:,['tests']].values[0:]\n",
    "    df['pos_rate'] = positive / tests * 100\n",
    "\n",
    "    # Death Rate\n",
    "    deaths = df.loc[:,['death_total']].values[0:]\n",
    "    positive = df.loc[:,['positive_total']].values[0:]\n",
    "    df['death_rate'] = (deaths / positive) * 100\n",
    "    df['death_rate_est'] = (deaths / (positive * 10)) * 100\n",
    "    \n",
    "    return df\n",
    "\n",
    "# fix individual files\n",
    "us = clean_covidtracking_api_data(us)\n",
    "\n"
   ]
  },
  {
   "cell_type": "code",
   "execution_count": null,
   "metadata": {},
   "outputs": [],
   "source": [
    "# us.head(5)\n",
    "\n",
    "us.to_csv(r'daily_covid_us.csv')\n",
    "\n",
    "us    "
   ]
  },
  {
   "cell_type": "markdown",
   "metadata": {},
   "source": [
    "## Visualization"
   ]
  },
  {
   "cell_type": "code",
   "execution_count": null,
   "metadata": {},
   "outputs": [],
   "source": [
    "political_entity = us\n",
    "\n",
    "subset_df = political_entity.loc[:,['positive']]\n",
    "arr = subset_df[:].to_numpy()\n",
    "reversed_arr = arr[::-1]\n",
    "reversed_arr = reversed_arr[-days_back:]\n",
    "plt.plot(reversed_arr[0:], label = 'positive')\n",
    "\n",
    "subset_df = political_entity.loc[:,['hospitalized']]\n",
    "arr = subset_df[:].to_numpy()\n",
    "reversed_arr = arr[::-1]\n",
    "reversed_arr = reversed_arr[-days_back:]\n",
    "plt.plot(reversed_arr[0:], label = 'hospitalized')\n",
    "\n",
    "subset_df = political_entity.loc[:,['death']]\n",
    "arr = subset_df[:].to_numpy()\n",
    "reversed_arr = arr[::-1]\n",
    "reversed_arr = reversed_arr[-days_back:]\n",
    "plt.plot(reversed_arr[0:], label = 'death')\n",
    "\n",
    "plt.legend()\n",
    "plt.show()\n"
   ]
  },
  {
   "cell_type": "markdown",
   "metadata": {},
   "source": [
    "# References\n",
    "\n",
    "- https://www-doh.state.nj.us/doh-shad/view/sharedstatic/CrudeDeathRate.pdf\n",
    "- https://www.cnn.com/resources/coronavirus-information/19067\n"
   ]
  }
 ],
 "metadata": {
  "kernelspec": {
   "display_name": "Python 3",
   "language": "python",
   "name": "python3"
  },
  "language_info": {
   "codemirror_mode": {
    "name": "ipython",
    "version": 3
   },
   "file_extension": ".py",
   "mimetype": "text/x-python",
   "name": "python",
   "nbconvert_exporter": "python",
   "pygments_lexer": "ipython3",
   "version": "3.7.6"
  }
 },
 "nbformat": 4,
 "nbformat_minor": 4
}
