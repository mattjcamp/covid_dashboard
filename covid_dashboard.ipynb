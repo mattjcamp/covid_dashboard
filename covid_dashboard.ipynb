{
 "cells": [
  {
   "cell_type": "markdown",
   "metadata": {},
   "source": [
    "# Local Covid-19 Metrics"
   ]
  },
  {
   "cell_type": "markdown",
   "metadata": {},
   "source": [
    "## Gather Datasets"
   ]
  },
  {
   "cell_type": "code",
   "execution_count": 6,
   "metadata": {
    "scrolled": true
   },
   "outputs": [
    {
     "name": "stderr",
     "output_type": "stream",
     "text": [
      "/opt/anaconda3/lib/python3.7/site-packages/ipykernel_launcher.py:68: RuntimeWarning: invalid value encountered in true_divide\n"
     ]
    }
   ],
   "source": [
    "\n",
    "# init\n",
    "import pandas as pd\n",
    "import requests\n",
    "import matplotlib.pyplot as plt\n",
    "from IPython.display import display, HTML\n",
    "from pandas import DataFrame\n",
    "\n",
    "# set parameters\n",
    "days_back = 120\n",
    "\n",
    "# get content from web APIs\n",
    "us = requests.get('https://covidtracking.com/api/v1/us/daily.json')\n",
    "us = us.text\n",
    "us = pd.read_json(us)\n",
    "\n",
    "pa = requests.get('https://covidtracking.com/api/v1/states/pa/daily.json')\n",
    "pa = pa.text\n",
    "pa = pd.read_json(pa)\n",
    "\n",
    "nj = requests.get('https://covidtracking.com/api/v1/states/nj/daily.json')\n",
    "nj = nj.text\n",
    "nj = pd.read_json(nj)\n",
    "\n",
    "# we can only get the past 7 days for bucks county with this API\n",
    "bucks_data = requests.get('https://localcoviddata.com/covid19/v1/cases/newYorkTimes?zipCode=19067&daysInPast=7')\n",
    "bucks_data = bucks_data.text\n",
    "bucks_data = pd.read_json(bucks_data)\n",
    "bucks_data = bucks_data.counties[0].get(\"historicData\")\n",
    "bucks_data = DataFrame (bucks_data,columns=['date','deathCt','positiveCt'])\n",
    "bucks_data['date'] = pd.to_datetime(pd.Series(bucks_data['date']), format=\"%Y-%m-%d\")\n",
    "\n",
    "# derive positive and death for bucks\n",
    "diff = bucks_data[['deathCt','positiveCt']].diff(periods=-1)\n",
    "bucks = bucks_data.join(diff, lsuffix='_caller', rsuffix='_other')\n",
    "bucks = bucks.rename(columns={'deathCt_caller':'death_total'\n",
    "                      ,'positiveCt_caller':'positive_total'\n",
    "                      ,'deathCt_other':'death'\n",
    "                      ,'positiveCt_other':'positive'})\n",
    "\n",
    "\n",
    "# positiveCt_caller\tdeathCt_other\tpositiveCt_other\n",
    "\n",
    "# massage datasets\n",
    "\n",
    "# make function for the covid tracking api since they are all the same\n",
    "def clean_covidtracking_api_data(df):\n",
    "    \n",
    "    # get subset\n",
    "    df = df[['date','positiveIncrease','totalTestResultsIncrease'\n",
    "           ,'hospitalizedCurrently','death','deathIncrease','positive']]\n",
    "    \n",
    "    # Rename dataset columns\n",
    "    df = df.rename(columns={'positiveIncrease':'positive'\n",
    "                              ,'totalTestResultsIncrease': 'tests'\n",
    "                              ,'hospitalizedCurrently': 'hospitalized'\n",
    "                              ,'death': 'death_total'\n",
    "                              ,'deathIncrease': 'death'\n",
    "                              ,'positive': 'positive_total'})\n",
    "    \n",
    "    # Harmonize date column\n",
    "    df['date'] = df['date'].astype(str)\n",
    "    df['date'] = pd.to_datetime(pd.Series(df['date']), format=\"%Y%m%d\")\n",
    "    \n",
    "    # Derived Columns\n",
    "    # Positivity Rate\n",
    "    positive = df.loc[:,['positive']].values[0:]\n",
    "    tests = df.loc[:,['tests']].values[0:]\n",
    "    df['pos_rate'] = positive / tests * 100\n",
    "\n",
    "    # Death Rate\n",
    "    deaths = df.loc[:,['death_total']].values[0:]\n",
    "    positive = df.loc[:,['positive_total']].values[0:]\n",
    "    df['death_rate'] = (deaths / positive) * 100\n",
    "    df['death_rate_est'] = (deaths / (positive * 10)) * 100\n",
    "    \n",
    "    return df\n",
    "\n",
    "# fix individual files\n",
    "pa = clean_covidtracking_api_data(pa)\n",
    "nj = clean_covidtracking_api_data(nj)\n",
    "us = clean_covidtracking_api_data(us)\n",
    "\n",
    "# Make compact summary dataset\n",
    "a = pa[['date','positive','pos_rate','hospitalized']]\n",
    "b = nj[['date','positive','pos_rate','hospitalized']]\n",
    "c = bucks[['date','positive']]\n",
    "d = a.set_index('date').join(b.set_index('date'), lsuffix='_pa', rsuffix='_nj')\n",
    "# e = a.set_index('date').join(c.set_index('date'))\n",
    "\n",
    "# todo: message bucks county dataset, fix date type, add + count delta\n",
    "\n",
    "\n",
    "\n",
    "# todo: harmonize all four datasets\n",
    "\n",
    "# todo: combine most important datapoints into one dataframe for all four entities"
   ]
  },
  {
   "cell_type": "code",
   "execution_count": 8,
   "metadata": {},
   "outputs": [
    {
     "ename": "KeyError",
     "evalue": "\"None of ['date'] are in the columns\"",
     "output_type": "error",
     "traceback": [
      "\u001b[0;31m---------------------------------------------------------------------------\u001b[0m",
      "\u001b[0;31mKeyError\u001b[0m                                  Traceback (most recent call last)",
      "\u001b[0;32m<ipython-input-8-cd34d6a8ece2>\u001b[0m in \u001b[0;36m<module>\u001b[0;34m\u001b[0m\n\u001b[0;32m----> 1\u001b[0;31m \u001b[0me\u001b[0m \u001b[0;34m=\u001b[0m \u001b[0md\u001b[0m\u001b[0;34m.\u001b[0m\u001b[0mset_index\u001b[0m\u001b[0;34m(\u001b[0m\u001b[0;34m'date'\u001b[0m\u001b[0;34m)\u001b[0m\u001b[0;34m.\u001b[0m\u001b[0mjoin\u001b[0m\u001b[0;34m(\u001b[0m\u001b[0mc\u001b[0m\u001b[0;34m.\u001b[0m\u001b[0mset_index\u001b[0m\u001b[0;34m(\u001b[0m\u001b[0;34m'date'\u001b[0m\u001b[0;34m)\u001b[0m\u001b[0;34m)\u001b[0m\u001b[0;34m\u001b[0m\u001b[0;34m\u001b[0m\u001b[0m\n\u001b[0m",
      "\u001b[0;32m/opt/anaconda3/lib/python3.7/site-packages/pandas/core/frame.py\u001b[0m in \u001b[0;36mset_index\u001b[0;34m(self, keys, drop, append, inplace, verify_integrity)\u001b[0m\n\u001b[1;32m   4301\u001b[0m \u001b[0;34m\u001b[0m\u001b[0m\n\u001b[1;32m   4302\u001b[0m         \u001b[0;32mif\u001b[0m \u001b[0mmissing\u001b[0m\u001b[0;34m:\u001b[0m\u001b[0;34m\u001b[0m\u001b[0;34m\u001b[0m\u001b[0m\n\u001b[0;32m-> 4303\u001b[0;31m             \u001b[0;32mraise\u001b[0m \u001b[0mKeyError\u001b[0m\u001b[0;34m(\u001b[0m\u001b[0;34mf\"None of {missing} are in the columns\"\u001b[0m\u001b[0;34m)\u001b[0m\u001b[0;34m\u001b[0m\u001b[0;34m\u001b[0m\u001b[0m\n\u001b[0m\u001b[1;32m   4304\u001b[0m \u001b[0;34m\u001b[0m\u001b[0m\n\u001b[1;32m   4305\u001b[0m         \u001b[0;32mif\u001b[0m \u001b[0minplace\u001b[0m\u001b[0;34m:\u001b[0m\u001b[0;34m\u001b[0m\u001b[0;34m\u001b[0m\u001b[0m\n",
      "\u001b[0;31mKeyError\u001b[0m: \"None of ['date'] are in the columns\""
     ]
    }
   ],
   "source": [
    "e = d.set_index('date').join(c.set_index('date'))\n"
   ]
  },
  {
   "cell_type": "code",
   "execution_count": 45,
   "metadata": {},
   "outputs": [
    {
     "data": {
      "text/html": [
       "<div>\n",
       "<style scoped>\n",
       "    .dataframe tbody tr th:only-of-type {\n",
       "        vertical-align: middle;\n",
       "    }\n",
       "\n",
       "    .dataframe tbody tr th {\n",
       "        vertical-align: top;\n",
       "    }\n",
       "\n",
       "    .dataframe thead th {\n",
       "        text-align: right;\n",
       "    }\n",
       "</style>\n",
       "<table border=\"1\" class=\"dataframe\">\n",
       "  <thead>\n",
       "    <tr style=\"text-align: right;\">\n",
       "      <th></th>\n",
       "      <th>date</th>\n",
       "      <th>deathCt</th>\n",
       "      <th>positiveCt</th>\n",
       "    </tr>\n",
       "  </thead>\n",
       "  <tbody>\n",
       "    <tr>\n",
       "      <th>0</th>\n",
       "      <td>2020-08-05</td>\n",
       "      <td>580</td>\n",
       "      <td>7085</td>\n",
       "    </tr>\n",
       "    <tr>\n",
       "      <th>1</th>\n",
       "      <td>2020-08-04</td>\n",
       "      <td>580</td>\n",
       "      <td>7056</td>\n",
       "    </tr>\n",
       "    <tr>\n",
       "      <th>2</th>\n",
       "      <td>2020-08-03</td>\n",
       "      <td>579</td>\n",
       "      <td>7020</td>\n",
       "    </tr>\n",
       "    <tr>\n",
       "      <th>3</th>\n",
       "      <td>2020-08-02</td>\n",
       "      <td>579</td>\n",
       "      <td>6995</td>\n",
       "    </tr>\n",
       "    <tr>\n",
       "      <th>4</th>\n",
       "      <td>2020-08-01</td>\n",
       "      <td>578</td>\n",
       "      <td>6959</td>\n",
       "    </tr>\n",
       "    <tr>\n",
       "      <th>5</th>\n",
       "      <td>2020-07-31</td>\n",
       "      <td>578</td>\n",
       "      <td>6902</td>\n",
       "    </tr>\n",
       "  </tbody>\n",
       "</table>\n",
       "</div>"
      ],
      "text/plain": [
       "        date  deathCt  positiveCt\n",
       "0 2020-08-05      580        7085\n",
       "1 2020-08-04      580        7056\n",
       "2 2020-08-03      579        7020\n",
       "3 2020-08-02      579        6995\n",
       "4 2020-08-01      578        6959\n",
       "5 2020-07-31      578        6902"
      ]
     },
     "execution_count": 45,
     "metadata": {},
     "output_type": "execute_result"
    }
   ],
   "source": [
    "bucks\n",
    "# change political entity dataset to select visualizations\n",
    "# (stopgap for now until we have better organized data)\n",
    "\n",
    "# political_entity = pa\n",
    "\n",
    "# view what we have for bucks\n"
   ]
  },
  {
   "cell_type": "code",
   "execution_count": 3,
   "metadata": {},
   "outputs": [
    {
     "data": {
      "text/html": [
       "<div>\n",
       "<style scoped>\n",
       "    .dataframe tbody tr th:only-of-type {\n",
       "        vertical-align: middle;\n",
       "    }\n",
       "\n",
       "    .dataframe tbody tr th {\n",
       "        vertical-align: top;\n",
       "    }\n",
       "\n",
       "    .dataframe thead th {\n",
       "        text-align: right;\n",
       "    }\n",
       "</style>\n",
       "<table border=\"1\" class=\"dataframe\">\n",
       "  <thead>\n",
       "    <tr style=\"text-align: right;\">\n",
       "      <th></th>\n",
       "      <th>date</th>\n",
       "      <th>positive</th>\n",
       "      <th>tests</th>\n",
       "      <th>pos_rate</th>\n",
       "    </tr>\n",
       "  </thead>\n",
       "  <tbody>\n",
       "    <tr>\n",
       "      <th>0</th>\n",
       "      <td>2020-08-06</td>\n",
       "      <td>807</td>\n",
       "      <td>15526</td>\n",
       "      <td>5.197733</td>\n",
       "    </tr>\n",
       "    <tr>\n",
       "      <th>1</th>\n",
       "      <td>2020-08-05</td>\n",
       "      <td>705</td>\n",
       "      <td>13196</td>\n",
       "      <td>5.342528</td>\n",
       "    </tr>\n",
       "    <tr>\n",
       "      <th>2</th>\n",
       "      <td>2020-08-04</td>\n",
       "      <td>854</td>\n",
       "      <td>14960</td>\n",
       "      <td>5.708556</td>\n",
       "    </tr>\n",
       "    <tr>\n",
       "      <th>3</th>\n",
       "      <td>2020-08-03</td>\n",
       "      <td>565</td>\n",
       "      <td>12000</td>\n",
       "      <td>4.708333</td>\n",
       "    </tr>\n",
       "    <tr>\n",
       "      <th>4</th>\n",
       "      <td>2020-08-02</td>\n",
       "      <td>654</td>\n",
       "      <td>12247</td>\n",
       "      <td>5.340083</td>\n",
       "    </tr>\n",
       "    <tr>\n",
       "      <th>5</th>\n",
       "      <td>2020-08-01</td>\n",
       "      <td>888</td>\n",
       "      <td>15450</td>\n",
       "      <td>5.747573</td>\n",
       "    </tr>\n",
       "    <tr>\n",
       "      <th>6</th>\n",
       "      <td>2020-07-31</td>\n",
       "      <td>970</td>\n",
       "      <td>16935</td>\n",
       "      <td>5.727783</td>\n",
       "    </tr>\n",
       "  </tbody>\n",
       "</table>\n",
       "</div>"
      ],
      "text/plain": [
       "        date  positive  tests  pos_rate\n",
       "0 2020-08-06       807  15526  5.197733\n",
       "1 2020-08-05       705  13196  5.342528\n",
       "2 2020-08-04       854  14960  5.708556\n",
       "3 2020-08-03       565  12000  4.708333\n",
       "4 2020-08-02       654  12247  5.340083\n",
       "5 2020-08-01       888  15450  5.747573\n",
       "6 2020-07-31       970  16935  5.727783"
      ]
     },
     "metadata": {},
     "output_type": "display_data"
    }
   ],
   "source": [
    "\n",
    "display(political_entity.loc[[0,1,2,3,4,5,6], ['date','positive','tests','pos_rate']])\n"
   ]
  },
  {
   "cell_type": "markdown",
   "metadata": {},
   "source": [
    "## Show Hospital Rates"
   ]
  },
  {
   "cell_type": "code",
   "execution_count": 13,
   "metadata": {},
   "outputs": [
    {
     "data": {
      "text/html": [
       "<div>\n",
       "<style scoped>\n",
       "    .dataframe tbody tr th:only-of-type {\n",
       "        vertical-align: middle;\n",
       "    }\n",
       "\n",
       "    .dataframe tbody tr th {\n",
       "        vertical-align: top;\n",
       "    }\n",
       "\n",
       "    .dataframe thead th {\n",
       "        text-align: right;\n",
       "    }\n",
       "</style>\n",
       "<table border=\"1\" class=\"dataframe\">\n",
       "  <thead>\n",
       "    <tr style=\"text-align: right;\">\n",
       "      <th></th>\n",
       "      <th>date</th>\n",
       "      <th>hospitalized</th>\n",
       "      <th>death</th>\n",
       "      <th>death_rate</th>\n",
       "      <th>death_rate_est</th>\n",
       "    </tr>\n",
       "  </thead>\n",
       "  <tbody>\n",
       "    <tr>\n",
       "      <th>0</th>\n",
       "      <td>20200805</td>\n",
       "      <td>639.0</td>\n",
       "      <td>12</td>\n",
       "      <td>6.260262</td>\n",
       "      <td>0.626026</td>\n",
       "    </tr>\n",
       "    <tr>\n",
       "      <th>1</th>\n",
       "      <td>20200804</td>\n",
       "      <td>656.0</td>\n",
       "      <td>23</td>\n",
       "      <td>6.288204</td>\n",
       "      <td>0.628820</td>\n",
       "    </tr>\n",
       "    <tr>\n",
       "      <th>2</th>\n",
       "      <td>20200803</td>\n",
       "      <td>585.0</td>\n",
       "      <td>0</td>\n",
       "      <td>6.315098</td>\n",
       "      <td>0.631510</td>\n",
       "    </tr>\n",
       "    <tr>\n",
       "      <th>3</th>\n",
       "      <td>20200802</td>\n",
       "      <td>564.0</td>\n",
       "      <td>5</td>\n",
       "      <td>6.346509</td>\n",
       "      <td>0.634651</td>\n",
       "    </tr>\n",
       "    <tr>\n",
       "      <th>4</th>\n",
       "      <td>20200801</td>\n",
       "      <td>579.0</td>\n",
       "      <td>15</td>\n",
       "      <td>6.378834</td>\n",
       "      <td>0.637883</td>\n",
       "    </tr>\n",
       "    <tr>\n",
       "      <th>5</th>\n",
       "      <td>20200731</td>\n",
       "      <td>522.0</td>\n",
       "      <td>13</td>\n",
       "      <td>6.416000</td>\n",
       "      <td>0.641600</td>\n",
       "    </tr>\n",
       "    <tr>\n",
       "      <th>6</th>\n",
       "      <td>20200730</td>\n",
       "      <td>756.0</td>\n",
       "      <td>14</td>\n",
       "      <td>6.460325</td>\n",
       "      <td>0.646033</td>\n",
       "    </tr>\n",
       "  </tbody>\n",
       "</table>\n",
       "</div>"
      ],
      "text/plain": [
       "       date  hospitalized  death  death_rate  death_rate_est\n",
       "0  20200805         639.0     12    6.260262        0.626026\n",
       "1  20200804         656.0     23    6.288204        0.628820\n",
       "2  20200803         585.0      0    6.315098        0.631510\n",
       "3  20200802         564.0      5    6.346509        0.634651\n",
       "4  20200801         579.0     15    6.378834        0.637883\n",
       "5  20200731         522.0     13    6.416000        0.641600\n",
       "6  20200730         756.0     14    6.460325        0.646033"
      ]
     },
     "metadata": {},
     "output_type": "display_data"
    }
   ],
   "source": [
    "\n",
    "display(political_entity.loc[[0,1,2,3,4,5,6], ['date','hospitalized','death','death_rate','death_rate_est']])\n"
   ]
  },
  {
   "cell_type": "code",
   "execution_count": 14,
   "metadata": {},
   "outputs": [
    {
     "data": {
      "image/png": "[encoded data removed]",
      "text/plain": [
       "<Figure size 432x288 with 1 Axes>"
      ]
     },
     "metadata": {
      "needs_background": "light"
     },
     "output_type": "display_data"
    }
   ],
   "source": [
    "\n",
    "subset_df = political_entity.loc[:,['positive']]\n",
    "arr = subset_df[:].to_numpy()\n",
    "reversed_arr = arr[::-1]\n",
    "reversed_arr = reversed_arr[-days_back:]\n",
    "plt.plot(reversed_arr[0:], label = 'positive')\n",
    "\n",
    "subset_df = political_entity.loc[:,['hospitalized']]\n",
    "arr = subset_df[:].to_numpy()\n",
    "reversed_arr = arr[::-1]\n",
    "reversed_arr = reversed_arr[-days_back:]\n",
    "plt.plot(reversed_arr[0:], label = 'hospitalized')\n",
    "\n",
    "subset_df = political_entity.loc[:,['death']]\n",
    "arr = subset_df[:].to_numpy()\n",
    "reversed_arr = arr[::-1]\n",
    "reversed_arr = reversed_arr[-days_back:]\n",
    "plt.plot(reversed_arr[0:], label = 'death')\n",
    "\n",
    "plt.legend()\n",
    "plt.show()\n"
   ]
  },
  {
   "cell_type": "code",
   "execution_count": 15,
   "metadata": {},
   "outputs": [
    {
     "data": {
      "image/png": "[encoded data removed]",
      "text/plain": [
       "<Figure size 432x288 with 1 Axes>"
      ]
     },
     "metadata": {
      "needs_background": "light"
     },
     "output_type": "display_data"
    }
   ],
   "source": [
    "subset_df = political_entity.loc[:,['death']]\n",
    "arr = subset_df[:].to_numpy()\n",
    "reversed_arr = arr[::-1]\n",
    "reversed_arr = reversed_arr[-days_back:]\n",
    "plt.plot(reversed_arr[0:], label = 'death')\n",
    "\n",
    "plt.legend()\n",
    "plt.show()"
   ]
  },
  {
   "cell_type": "code",
   "execution_count": 16,
   "metadata": {},
   "outputs": [
    {
     "data": {
      "image/png": "[encoded data removed]",
      "text/plain": [
       "<Figure size 432x288 with 1 Axes>"
      ]
     },
     "metadata": {
      "needs_background": "light"
     },
     "output_type": "display_data"
    }
   ],
   "source": [
    "subset_df = political_entity.loc[:,['pos_rate']]\n",
    "arr = subset_df[:].to_numpy()\n",
    "reversed_arr = arr[::-1]\n",
    "reversed_arr = reversed_arr[-days_back:]\n",
    "plt.plot(reversed_arr[0:], label = 'pos_rate')\n",
    "\n",
    "plt.legend()\n",
    "plt.show()"
   ]
  },
  {
   "cell_type": "code",
   "execution_count": null,
   "metadata": {},
   "outputs": [],
   "source": []
  }
 ],
 "metadata": {
  "kernelspec": {
   "display_name": "Python 3",
   "language": "python",
   "name": "python3"
  },
  "language_info": {
   "codemirror_mode": {
    "name": "ipython",
    "version": 3
   },
   "file_extension": ".py",
   "mimetype": "text/x-python",
   "name": "python",
   "nbconvert_exporter": "python",
   "pygments_lexer": "ipython3",
   "version": "3.7.6"
  }
 },
 "nbformat": 4,
 "nbformat_minor": 4
}
