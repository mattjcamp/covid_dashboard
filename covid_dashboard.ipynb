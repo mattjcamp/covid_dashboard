{
 "cells": [
  {
   "cell_type": "markdown",
   "metadata": {},
   "source": [
    "# Local Covid-19 Metrics"
   ]
  },
  {
   "cell_type": "markdown",
   "metadata": {},
   "source": [
    "## Gather Datasets"
   ]
  },
  {
   "cell_type": "code",
   "execution_count": 66,
   "metadata": {
    "scrolled": true
   },
   "outputs": [
    {
     "name": "stderr",
     "output_type": "stream",
     "text": [
      "/opt/anaconda3/lib/python3.7/site-packages/ipykernel_launcher.py:65: RuntimeWarning: invalid value encountered in true_divide\n"
     ]
    }
   ],
   "source": [
    "\n",
    "# init\n",
    "import pandas as pd\n",
    "import requests\n",
    "import matplotlib.pyplot as plt\n",
    "from IPython.display import display, HTML\n",
    "from pandas import DataFrame\n",
    "\n",
    "# set parameters\n",
    "days_back = 90\n",
    "\n",
    "# get content from web APIs\n",
    "us = requests.get('https://covidtracking.com/api/v1/us/daily.json')\n",
    "us = us.text\n",
    "us = pd.read_json(us)\n",
    "\n",
    "pa = requests.get('https://covidtracking.com/api/v1/states/pa/daily.json')\n",
    "pa = pa.text\n",
    "pa = pd.read_json(pa)\n",
    "\n",
    "nj = requests.get('https://covidtracking.com/api/v1/states/nj/daily.json')\n",
    "nj = nj.text\n",
    "nj = pd.read_json(nj)\n",
    "\n",
    "# we can only get the past 7 days for bucks county with this API\n",
    "bucks_data = requests.get('https://localcoviddata.com/covid19/v1/cases/newYorkTimes?zipCode=19067&daysInPast=7')\n",
    "bucks_data = bucks_data.text\n",
    "bucks_data = pd.read_json(bucks_data)\n",
    "bucks_data = bucks_data.counties[0].get(\"historicData\")\n",
    "bucks_data = DataFrame (bucks_data,columns=['date','deathCt','positiveCt'])\n",
    "bucks_data['date'] = pd.to_datetime(pd.Series(bucks_data['date']), format=\"%Y-%m-%d\")\n",
    "\n",
    "# derive positive and death for bucks\n",
    "diff = bucks_data[['deathCt','positiveCt']].diff(periods=-1)\n",
    "bucks = bucks_data.join(diff, lsuffix='_caller', rsuffix='_other')\n",
    "bucks = bucks.rename(columns={'deathCt_caller':'death_total'\n",
    "                      ,'positiveCt_caller':'positive_total'\n",
    "                      ,'deathCt_other':'death'\n",
    "                      ,'positiveCt_other':'positive'})\n",
    "\n",
    "# massage datasets\n",
    "\n",
    "# make function for the covid tracking api since they are all the same\n",
    "def clean_covidtracking_api_data(df):\n",
    "    \n",
    "    # get subset\n",
    "    df = df[['date','positiveIncrease','totalTestResultsIncrease'\n",
    "           ,'hospitalizedCurrently','death','deathIncrease','positive']]\n",
    "    \n",
    "    # Rename dataset columns\n",
    "    df = df.rename(columns={'positiveIncrease':'positive'\n",
    "                              ,'totalTestResultsIncrease': 'tests'\n",
    "                              ,'hospitalizedCurrently': 'hospitalized'\n",
    "                              ,'death': 'death_total'\n",
    "                              ,'deathIncrease': 'death'\n",
    "                              ,'positive': 'positive_total'})\n",
    "    \n",
    "    # Harmonize date column\n",
    "    df['date'] = df['date'].astype(str)\n",
    "    df['date'] = pd.to_datetime(pd.Series(df['date']), format=\"%Y%m%d\")\n",
    "    \n",
    "    # Derived Columns\n",
    "    # Positivity Rate\n",
    "    positive = df.loc[:,['positive']].values[0:]\n",
    "    tests = df.loc[:,['tests']].values[0:]\n",
    "    df['pos_rate'] = positive / tests * 100\n",
    "\n",
    "    # Death Rate\n",
    "    deaths = df.loc[:,['death_total']].values[0:]\n",
    "    positive = df.loc[:,['positive_total']].values[0:]\n",
    "    df['death_rate'] = (deaths / positive) * 100\n",
    "    df['death_rate_est'] = (deaths / (positive * 10)) * 100\n",
    "    \n",
    "    return df\n",
    "\n",
    "# fix individual files\n",
    "pa = clean_covidtracking_api_data(pa)\n",
    "nj = clean_covidtracking_api_data(nj)\n",
    "us = clean_covidtracking_api_data(us)\n",
    "\n",
    "# Make compact summary dataset\n",
    "a = pa[['date','positive','pos_rate','hospitalized']]\n",
    "b = nj[['date','positive','pos_rate','hospitalized']]\n",
    "pa_nj_positive = a.set_index('date').join(b.set_index('date'), lsuffix='_pa', rsuffix='_nj')\n",
    "\n",
    "# Bucks death rate as of August 8, 2020\n",
    "bucks_case_rate = 7118/626370*100000\n",
    "\n",
    "\n"
   ]
  },
  {
   "cell_type": "markdown",
   "metadata": {},
   "source": [
    "## NOTES\n",
    "\n",
    "Facts: \n",
    "- NJ has about 8.8 million people\n",
    "- PA has about 12.5 million people\n",
    "- Bucks County has 626,370 people\n",
    "- WHO recommends opening schools for in person learning when your area has a positivity rate of no more than 5% for seven days\n",
    "\n",
    "By mid-August\n",
    "- PA had 953 cases per 100,000 people\n",
    "- NY had 2,157 cases per 100,000 people\n",
    "- NJ had 2,072 cases per 100,000 people\n",
    "- Bucks had 1,136 cases per 100,000 people\n",
    "\n",
    "In late summer:\n",
    "- Bucks had an average of less than one death per day\n",
    "- Bucks had about 30 new positive cases per day\n",
    "- PA had an average positivity rate of 5.5%\n",
    "- NJ had an average positivity rate of about 2%\n",
    "- PA had a confirmed infection rate of 0.954%\n",
    "- Bucks had a confirmed infection rate of 0.0114%\n",
    "\n",
    "* NOTE experts believe that at least 10% of the population has an undiagnosed case of Covid-19. So if bucks has a confirmed infection rate of 0.0114 then we can assume that 0.114% of the Bucks County has been infected."
   ]
  },
  {
   "cell_type": "markdown",
   "metadata": {},
   "source": [
    "## PA and NJ Summary"
   ]
  },
  {
   "cell_type": "code",
   "execution_count": 67,
   "metadata": {},
   "outputs": [
    {
     "data": {
      "text/html": [
       "<div>\n",
       "<style scoped>\n",
       "    .dataframe tbody tr th:only-of-type {\n",
       "        vertical-align: middle;\n",
       "    }\n",
       "\n",
       "    .dataframe tbody tr th {\n",
       "        vertical-align: top;\n",
       "    }\n",
       "\n",
       "    .dataframe thead th {\n",
       "        text-align: right;\n",
       "    }\n",
       "</style>\n",
       "<table border=\"1\" class=\"dataframe\">\n",
       "  <thead>\n",
       "    <tr style=\"text-align: right;\">\n",
       "      <th></th>\n",
       "      <th>positive_pa</th>\n",
       "      <th>pos_rate_pa</th>\n",
       "      <th>hospitalized_pa</th>\n",
       "      <th>positive_nj</th>\n",
       "      <th>pos_rate_nj</th>\n",
       "      <th>hospitalized_nj</th>\n",
       "    </tr>\n",
       "    <tr>\n",
       "      <th>date</th>\n",
       "      <th></th>\n",
       "      <th></th>\n",
       "      <th></th>\n",
       "      <th></th>\n",
       "      <th></th>\n",
       "      <th></th>\n",
       "    </tr>\n",
       "  </thead>\n",
       "  <tbody>\n",
       "    <tr>\n",
       "      <th>2020-08-07</th>\n",
       "      <td>758</td>\n",
       "      <td>4.553099</td>\n",
       "      <td>651.0</td>\n",
       "      <td>360</td>\n",
       "      <td>1.596665</td>\n",
       "      <td>551.0</td>\n",
       "    </tr>\n",
       "    <tr>\n",
       "      <th>2020-08-06</th>\n",
       "      <td>807</td>\n",
       "      <td>5.197733</td>\n",
       "      <td>663.0</td>\n",
       "      <td>374</td>\n",
       "      <td>0.865200</td>\n",
       "      <td>754.0</td>\n",
       "    </tr>\n",
       "    <tr>\n",
       "      <th>2020-08-05</th>\n",
       "      <td>705</td>\n",
       "      <td>5.342528</td>\n",
       "      <td>639.0</td>\n",
       "      <td>357</td>\n",
       "      <td>1.616701</td>\n",
       "      <td>784.0</td>\n",
       "    </tr>\n",
       "    <tr>\n",
       "      <th>2020-08-04</th>\n",
       "      <td>854</td>\n",
       "      <td>5.708556</td>\n",
       "      <td>656.0</td>\n",
       "      <td>356</td>\n",
       "      <td>100.000000</td>\n",
       "      <td>470.0</td>\n",
       "    </tr>\n",
       "    <tr>\n",
       "      <th>2020-08-03</th>\n",
       "      <td>565</td>\n",
       "      <td>4.708333</td>\n",
       "      <td>585.0</td>\n",
       "      <td>264</td>\n",
       "      <td>1.411614</td>\n",
       "      <td>738.0</td>\n",
       "    </tr>\n",
       "  </tbody>\n",
       "</table>\n",
       "</div>"
      ],
      "text/plain": [
       "            positive_pa  pos_rate_pa  hospitalized_pa  positive_nj  \\\n",
       "date                                                                 \n",
       "2020-08-07          758     4.553099            651.0          360   \n",
       "2020-08-06          807     5.197733            663.0          374   \n",
       "2020-08-05          705     5.342528            639.0          357   \n",
       "2020-08-04          854     5.708556            656.0          356   \n",
       "2020-08-03          565     4.708333            585.0          264   \n",
       "\n",
       "            pos_rate_nj  hospitalized_nj  \n",
       "date                                      \n",
       "2020-08-07     1.596665            551.0  \n",
       "2020-08-06     0.865200            754.0  \n",
       "2020-08-05     1.616701            784.0  \n",
       "2020-08-04   100.000000            470.0  \n",
       "2020-08-03     1.411614            738.0  "
      ]
     },
     "execution_count": 67,
     "metadata": {},
     "output_type": "execute_result"
    }
   ],
   "source": [
    "pa_nj_positive.head()"
   ]
  },
  {
   "cell_type": "markdown",
   "metadata": {},
   "source": [
    "## Bucks Summary"
   ]
  },
  {
   "cell_type": "code",
   "execution_count": 68,
   "metadata": {},
   "outputs": [
    {
     "data": {
      "text/html": [
       "<div>\n",
       "<style scoped>\n",
       "    .dataframe tbody tr th:only-of-type {\n",
       "        vertical-align: middle;\n",
       "    }\n",
       "\n",
       "    .dataframe tbody tr th {\n",
       "        vertical-align: top;\n",
       "    }\n",
       "\n",
       "    .dataframe thead th {\n",
       "        text-align: right;\n",
       "    }\n",
       "</style>\n",
       "<table border=\"1\" class=\"dataframe\">\n",
       "  <thead>\n",
       "    <tr style=\"text-align: right;\">\n",
       "      <th></th>\n",
       "      <th>date</th>\n",
       "      <th>death_total</th>\n",
       "      <th>positive_total</th>\n",
       "      <th>death</th>\n",
       "      <th>positive</th>\n",
       "    </tr>\n",
       "  </thead>\n",
       "  <tbody>\n",
       "    <tr>\n",
       "      <th>0</th>\n",
       "      <td>2020-08-06</td>\n",
       "      <td>581</td>\n",
       "      <td>7118</td>\n",
       "      <td>1.0</td>\n",
       "      <td>33.0</td>\n",
       "    </tr>\n",
       "    <tr>\n",
       "      <th>1</th>\n",
       "      <td>2020-08-05</td>\n",
       "      <td>580</td>\n",
       "      <td>7085</td>\n",
       "      <td>0.0</td>\n",
       "      <td>29.0</td>\n",
       "    </tr>\n",
       "    <tr>\n",
       "      <th>2</th>\n",
       "      <td>2020-08-04</td>\n",
       "      <td>580</td>\n",
       "      <td>7056</td>\n",
       "      <td>1.0</td>\n",
       "      <td>36.0</td>\n",
       "    </tr>\n",
       "    <tr>\n",
       "      <th>3</th>\n",
       "      <td>2020-08-03</td>\n",
       "      <td>579</td>\n",
       "      <td>7020</td>\n",
       "      <td>0.0</td>\n",
       "      <td>25.0</td>\n",
       "    </tr>\n",
       "    <tr>\n",
       "      <th>4</th>\n",
       "      <td>2020-08-02</td>\n",
       "      <td>579</td>\n",
       "      <td>6995</td>\n",
       "      <td>1.0</td>\n",
       "      <td>36.0</td>\n",
       "    </tr>\n",
       "  </tbody>\n",
       "</table>\n",
       "</div>"
      ],
      "text/plain": [
       "        date  death_total  positive_total  death  positive\n",
       "0 2020-08-06          581            7118    1.0      33.0\n",
       "1 2020-08-05          580            7085    0.0      29.0\n",
       "2 2020-08-04          580            7056    1.0      36.0\n",
       "3 2020-08-03          579            7020    0.0      25.0\n",
       "4 2020-08-02          579            6995    1.0      36.0"
      ]
     },
     "execution_count": 68,
     "metadata": {},
     "output_type": "execute_result"
    }
   ],
   "source": [
    "bucks.head()"
   ]
  },
  {
   "cell_type": "code",
   "execution_count": 69,
   "metadata": {},
   "outputs": [],
   "source": [
    "\n",
    "# change political entity dataset to select visualizations\n",
    "# (stopgap for now until we have better organized data)\n",
    "\n",
    "political_entity = pa\n"
   ]
  },
  {
   "cell_type": "code",
   "execution_count": 70,
   "metadata": {},
   "outputs": [
    {
     "data": {
      "image/png": "[encoded data removed]",
      "text/plain": [
       "<Figure size 432x288 with 1 Axes>"
      ]
     },
     "metadata": {
      "needs_background": "light"
     },
     "output_type": "display_data"
    }
   ],
   "source": [
    "\n",
    "subset_df = political_entity.loc[:,['positive']]\n",
    "arr = subset_df[:].to_numpy()\n",
    "reversed_arr = arr[::-1]\n",
    "reversed_arr = reversed_arr[-days_back:]\n",
    "plt.plot(reversed_arr[0:], label = 'positive')\n",
    "\n",
    "subset_df = political_entity.loc[:,['hospitalized']]\n",
    "arr = subset_df[:].to_numpy()\n",
    "reversed_arr = arr[::-1]\n",
    "reversed_arr = reversed_arr[-days_back:]\n",
    "plt.plot(reversed_arr[0:], label = 'hospitalized')\n",
    "\n",
    "subset_df = political_entity.loc[:,['death']]\n",
    "arr = subset_df[:].to_numpy()\n",
    "reversed_arr = arr[::-1]\n",
    "reversed_arr = reversed_arr[-days_back:]\n",
    "plt.plot(reversed_arr[0:], label = 'death')\n",
    "\n",
    "plt.legend()\n",
    "plt.show()\n"
   ]
  },
  {
   "cell_type": "markdown",
   "metadata": {},
   "source": [
    "# References\n",
    "\n",
    "- https://www-doh.state.nj.us/doh-shad/view/sharedstatic/CrudeDeathRate.pdf\n",
    "- https://www.cnn.com/resources/coronavirus-information/19067\n"
   ]
  },
  {
   "cell_type": "code",
   "execution_count": null,
   "metadata": {},
   "outputs": [],
   "source": []
  }
 ],
 "metadata": {
  "kernelspec": {
   "display_name": "Python 3",
   "language": "python",
   "name": "python3"
  },
  "language_info": {
   "codemirror_mode": {
    "name": "ipython",
    "version": 3
   },
   "file_extension": ".py",
   "mimetype": "text/x-python",
   "name": "python",
   "nbconvert_exporter": "python",
   "pygments_lexer": "ipython3",
   "version": "3.7.6"
  }
 },
 "nbformat": 4,
 "nbformat_minor": 4
}
